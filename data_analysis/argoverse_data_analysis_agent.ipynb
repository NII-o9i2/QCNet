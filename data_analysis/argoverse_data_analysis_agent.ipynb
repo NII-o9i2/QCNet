{
 "cells": [
  {
   "cell_type": "code",
   "execution_count": 1,
   "id": "initial_id",
   "metadata": {
    "ExecuteTime": {
     "end_time": "2024-07-22T12:32:56.904868Z",
     "start_time": "2024-07-22T12:32:56.826259Z"
    }
   },
   "outputs": [],
   "source": [
    "import os\n",
    "import pandas as pd\n",
    "import pandas_bokeh\n",
    "import bokeh\n",
    "from bokeh.plotting import output_file\n",
    "from bokeh.models import ColumnDataSource\n",
    "import numpy as np\n",
    "from bokeh.models import ColumnDataSource, FactorRange\n",
    "from bokeh.plotting import figure, show, output_notebook"
   ]
  },
  {
   "cell_type": "code",
   "execution_count": 2,
   "id": "e8e7a757fac85842",
   "metadata": {
    "collapsed": false,
    "ExecuteTime": {
     "end_time": "2024-07-22T12:32:56.911955Z",
     "start_time": "2024-07-22T12:32:56.905804Z"
    }
   },
   "outputs": [
    {
     "data": {
      "text/html": "<div class=\"bk-root\">\n        <a href=\"https://bokeh.org\" target=\"_blank\" class=\"bk-logo bk-logo-small bk-logo-notebook\"></a>\n        <span id=\"1002\">Loading BokehJS ...</span>\n    </div>\n"
     },
     "metadata": {},
     "output_type": "display_data"
    },
    {
     "data": {
      "application/javascript": "(function(root) {\n  function now() {\n    return new Date();\n  }\n\n  const force = true;\n\n  if (typeof root._bokeh_onload_callbacks === \"undefined\" || force === true) {\n    root._bokeh_onload_callbacks = [];\n    root._bokeh_is_loading = undefined;\n  }\n\nconst JS_MIME_TYPE = 'application/javascript';\n  const HTML_MIME_TYPE = 'text/html';\n  const EXEC_MIME_TYPE = 'application/vnd.bokehjs_exec.v0+json';\n  const CLASS_NAME = 'output_bokeh rendered_html';\n\n  /**\n   * Render data to the DOM node\n   */\n  function render(props, node) {\n    const script = document.createElement(\"script\");\n    node.appendChild(script);\n  }\n\n  /**\n   * Handle when an output is cleared or removed\n   */\n  function handleClearOutput(event, handle) {\n    const cell = handle.cell;\n\n    const id = cell.output_area._bokeh_element_id;\n    const server_id = cell.output_area._bokeh_server_id;\n    // Clean up Bokeh references\n    if (id != null && id in Bokeh.index) {\n      Bokeh.index[id].model.document.clear();\n      delete Bokeh.index[id];\n    }\n\n    if (server_id !== undefined) {\n      // Clean up Bokeh references\n      const cmd_clean = \"from bokeh.io.state import curstate; print(curstate().uuid_to_server['\" + server_id + \"'].get_sessions()[0].document.roots[0]._id)\";\n      cell.notebook.kernel.execute(cmd_clean, {\n        iopub: {\n          output: function(msg) {\n            const id = msg.content.text.trim();\n            if (id in Bokeh.index) {\n              Bokeh.index[id].model.document.clear();\n              delete Bokeh.index[id];\n            }\n          }\n        }\n      });\n      // Destroy server and session\n      const cmd_destroy = \"import bokeh.io.notebook as ion; ion.destroy_server('\" + server_id + \"')\";\n      cell.notebook.kernel.execute(cmd_destroy);\n    }\n  }\n\n  /**\n   * Handle when a new output is added\n   */\n  function handleAddOutput(event, handle) {\n    const output_area = handle.output_area;\n    const output = handle.output;\n\n    // limit handleAddOutput to display_data with EXEC_MIME_TYPE content only\n    if ((output.output_type != \"display_data\") || (!Object.prototype.hasOwnProperty.call(output.data, EXEC_MIME_TYPE))) {\n      return\n    }\n\n    const toinsert = output_area.element.find(\".\" + CLASS_NAME.split(' ')[0]);\n\n    if (output.metadata[EXEC_MIME_TYPE][\"id\"] !== undefined) {\n      toinsert[toinsert.length - 1].firstChild.textContent = output.data[JS_MIME_TYPE];\n      // store reference to embed id on output_area\n      output_area._bokeh_element_id = output.metadata[EXEC_MIME_TYPE][\"id\"];\n    }\n    if (output.metadata[EXEC_MIME_TYPE][\"server_id\"] !== undefined) {\n      const bk_div = document.createElement(\"div\");\n      bk_div.innerHTML = output.data[HTML_MIME_TYPE];\n      const script_attrs = bk_div.children[0].attributes;\n      for (let i = 0; i < script_attrs.length; i++) {\n        toinsert[toinsert.length - 1].firstChild.setAttribute(script_attrs[i].name, script_attrs[i].value);\n        toinsert[toinsert.length - 1].firstChild.textContent = bk_div.children[0].textContent\n      }\n      // store reference to server id on output_area\n      output_area._bokeh_server_id = output.metadata[EXEC_MIME_TYPE][\"server_id\"];\n    }\n  }\n\n  function register_renderer(events, OutputArea) {\n\n    function append_mime(data, metadata, element) {\n      // create a DOM node to render to\n      const toinsert = this.create_output_subarea(\n        metadata,\n        CLASS_NAME,\n        EXEC_MIME_TYPE\n      );\n      this.keyboard_manager.register_events(toinsert);\n      // Render to node\n      const props = {data: data, metadata: metadata[EXEC_MIME_TYPE]};\n      render(props, toinsert[toinsert.length - 1]);\n      element.append(toinsert);\n      return toinsert\n    }\n\n    /* Handle when an output is cleared or removed */\n    events.on('clear_output.CodeCell', handleClearOutput);\n    events.on('delete.Cell', handleClearOutput);\n\n    /* Handle when a new output is added */\n    events.on('output_added.OutputArea', handleAddOutput);\n\n    /**\n     * Register the mime type and append_mime function with output_area\n     */\n    OutputArea.prototype.register_mime_type(EXEC_MIME_TYPE, append_mime, {\n      /* Is output safe? */\n      safe: true,\n      /* Index of renderer in `output_area.display_order` */\n      index: 0\n    });\n  }\n\n  // register the mime type if in Jupyter Notebook environment and previously unregistered\n  if (root.Jupyter !== undefined) {\n    const events = require('base/js/events');\n    const OutputArea = require('notebook/js/outputarea').OutputArea;\n\n    if (OutputArea.prototype.mime_types().indexOf(EXEC_MIME_TYPE) == -1) {\n      register_renderer(events, OutputArea);\n    }\n  }\n  if (typeof (root._bokeh_timeout) === \"undefined\" || force === true) {\n    root._bokeh_timeout = Date.now() + 5000;\n    root._bokeh_failed_load = false;\n  }\n\n  const NB_LOAD_WARNING = {'data': {'text/html':\n     \"<div style='background-color: #fdd'>\\n\"+\n     \"<p>\\n\"+\n     \"BokehJS does not appear to have successfully loaded. If loading BokehJS from CDN, this \\n\"+\n     \"may be due to a slow or bad network connection. Possible fixes:\\n\"+\n     \"</p>\\n\"+\n     \"<ul>\\n\"+\n     \"<li>re-rerun `output_notebook()` to attempt to load from CDN again, or</li>\\n\"+\n     \"<li>use INLINE resources instead, as so:</li>\\n\"+\n     \"</ul>\\n\"+\n     \"<code>\\n\"+\n     \"from bokeh.resources import INLINE\\n\"+\n     \"output_notebook(resources=INLINE)\\n\"+\n     \"</code>\\n\"+\n     \"</div>\"}};\n\n  function display_loaded() {\n    const el = document.getElementById(\"1002\");\n    if (el != null) {\n      el.textContent = \"BokehJS is loading...\";\n    }\n    if (root.Bokeh !== undefined) {\n      if (el != null) {\n        el.textContent = \"BokehJS \" + root.Bokeh.version + \" successfully loaded.\";\n      }\n    } else if (Date.now() < root._bokeh_timeout) {\n      setTimeout(display_loaded, 100)\n    }\n  }\n\n  function run_callbacks() {\n    try {\n      root._bokeh_onload_callbacks.forEach(function(callback) {\n        if (callback != null)\n          callback();\n      });\n    } finally {\n      delete root._bokeh_onload_callbacks\n    }\n    console.debug(\"Bokeh: all callbacks have finished\");\n  }\n\n  function load_libs(css_urls, js_urls, callback) {\n    if (css_urls == null) css_urls = [];\n    if (js_urls == null) js_urls = [];\n\n    root._bokeh_onload_callbacks.push(callback);\n    if (root._bokeh_is_loading > 0) {\n      console.debug(\"Bokeh: BokehJS is being loaded, scheduling callback at\", now());\n      return null;\n    }\n    if (js_urls == null || js_urls.length === 0) {\n      run_callbacks();\n      return null;\n    }\n    console.debug(\"Bokeh: BokehJS not loaded, scheduling load and callback at\", now());\n    root._bokeh_is_loading = css_urls.length + js_urls.length;\n\n    function on_load() {\n      root._bokeh_is_loading--;\n      if (root._bokeh_is_loading === 0) {\n        console.debug(\"Bokeh: all BokehJS libraries/stylesheets loaded\");\n        run_callbacks()\n      }\n    }\n\n    function on_error(url) {\n      console.error(\"failed to load \" + url);\n    }\n\n    for (let i = 0; i < css_urls.length; i++) {\n      const url = css_urls[i];\n      const element = document.createElement(\"link\");\n      element.onload = on_load;\n      element.onerror = on_error.bind(null, url);\n      element.rel = \"stylesheet\";\n      element.type = \"text/css\";\n      element.href = url;\n      console.debug(\"Bokeh: injecting link tag for BokehJS stylesheet: \", url);\n      document.body.appendChild(element);\n    }\n\n    for (let i = 0; i < js_urls.length; i++) {\n      const url = js_urls[i];\n      const element = document.createElement('script');\n      element.onload = on_load;\n      element.onerror = on_error.bind(null, url);\n      element.async = false;\n      element.src = url;\n      console.debug(\"Bokeh: injecting script tag for BokehJS library: \", url);\n      document.head.appendChild(element);\n    }\n  };\n\n  function inject_raw_css(css) {\n    const element = document.createElement(\"style\");\n    element.appendChild(document.createTextNode(css));\n    document.body.appendChild(element);\n  }\n\n  const js_urls = [\"https://cdn.bokeh.org/bokeh/release/bokeh-2.4.3.min.js\", \"https://cdn.bokeh.org/bokeh/release/bokeh-gl-2.4.3.min.js\", \"https://cdn.bokeh.org/bokeh/release/bokeh-widgets-2.4.3.min.js\", \"https://cdn.bokeh.org/bokeh/release/bokeh-tables-2.4.3.min.js\", \"https://cdn.bokeh.org/bokeh/release/bokeh-mathjax-2.4.3.min.js\"];\n  const css_urls = [];\n\n  const inline_js = [    function(Bokeh) {\n      Bokeh.set_log_level(\"info\");\n    },\nfunction(Bokeh) {\n    }\n  ];\n\n  function run_inline_js() {\n    if (root.Bokeh !== undefined || force === true) {\n          for (let i = 0; i < inline_js.length; i++) {\n      inline_js[i].call(root, root.Bokeh);\n    }\nif (force === true) {\n        display_loaded();\n      }} else if (Date.now() < root._bokeh_timeout) {\n      setTimeout(run_inline_js, 100);\n    } else if (!root._bokeh_failed_load) {\n      console.log(\"Bokeh: BokehJS failed to load within specified timeout.\");\n      root._bokeh_failed_load = true;\n    } else if (force !== true) {\n      const cell = $(document.getElementById(\"1002\")).parents('.cell').data().cell;\n      cell.output_area.append_execute_result(NB_LOAD_WARNING)\n    }\n  }\n\n  if (root._bokeh_is_loading === 0) {\n    console.debug(\"Bokeh: BokehJS loaded, going straight to plotting\");\n    run_inline_js();\n  } else {\n    load_libs(css_urls, js_urls, function() {\n      console.debug(\"Bokeh: BokehJS plotting callback run at\", now());\n      run_inline_js();\n    });\n  }\n}(window));",
      "application/vnd.bokehjs_load.v0+json": "(function(root) {\n  function now() {\n    return new Date();\n  }\n\n  const force = true;\n\n  if (typeof root._bokeh_onload_callbacks === \"undefined\" || force === true) {\n    root._bokeh_onload_callbacks = [];\n    root._bokeh_is_loading = undefined;\n  }\n\n\n  if (typeof (root._bokeh_timeout) === \"undefined\" || force === true) {\n    root._bokeh_timeout = Date.now() + 5000;\n    root._bokeh_failed_load = false;\n  }\n\n  const NB_LOAD_WARNING = {'data': {'text/html':\n     \"<div style='background-color: #fdd'>\\n\"+\n     \"<p>\\n\"+\n     \"BokehJS does not appear to have successfully loaded. If loading BokehJS from CDN, this \\n\"+\n     \"may be due to a slow or bad network connection. Possible fixes:\\n\"+\n     \"</p>\\n\"+\n     \"<ul>\\n\"+\n     \"<li>re-rerun `output_notebook()` to attempt to load from CDN again, or</li>\\n\"+\n     \"<li>use INLINE resources instead, as so:</li>\\n\"+\n     \"</ul>\\n\"+\n     \"<code>\\n\"+\n     \"from bokeh.resources import INLINE\\n\"+\n     \"output_notebook(resources=INLINE)\\n\"+\n     \"</code>\\n\"+\n     \"</div>\"}};\n\n  function display_loaded() {\n    const el = document.getElementById(\"1002\");\n    if (el != null) {\n      el.textContent = \"BokehJS is loading...\";\n    }\n    if (root.Bokeh !== undefined) {\n      if (el != null) {\n        el.textContent = \"BokehJS \" + root.Bokeh.version + \" successfully loaded.\";\n      }\n    } else if (Date.now() < root._bokeh_timeout) {\n      setTimeout(display_loaded, 100)\n    }\n  }\n\n  function run_callbacks() {\n    try {\n      root._bokeh_onload_callbacks.forEach(function(callback) {\n        if (callback != null)\n          callback();\n      });\n    } finally {\n      delete root._bokeh_onload_callbacks\n    }\n    console.debug(\"Bokeh: all callbacks have finished\");\n  }\n\n  function load_libs(css_urls, js_urls, callback) {\n    if (css_urls == null) css_urls = [];\n    if (js_urls == null) js_urls = [];\n\n    root._bokeh_onload_callbacks.push(callback);\n    if (root._bokeh_is_loading > 0) {\n      console.debug(\"Bokeh: BokehJS is being loaded, scheduling callback at\", now());\n      return null;\n    }\n    if (js_urls == null || js_urls.length === 0) {\n      run_callbacks();\n      return null;\n    }\n    console.debug(\"Bokeh: BokehJS not loaded, scheduling load and callback at\", now());\n    root._bokeh_is_loading = css_urls.length + js_urls.length;\n\n    function on_load() {\n      root._bokeh_is_loading--;\n      if (root._bokeh_is_loading === 0) {\n        console.debug(\"Bokeh: all BokehJS libraries/stylesheets loaded\");\n        run_callbacks()\n      }\n    }\n\n    function on_error(url) {\n      console.error(\"failed to load \" + url);\n    }\n\n    for (let i = 0; i < css_urls.length; i++) {\n      const url = css_urls[i];\n      const element = document.createElement(\"link\");\n      element.onload = on_load;\n      element.onerror = on_error.bind(null, url);\n      element.rel = \"stylesheet\";\n      element.type = \"text/css\";\n      element.href = url;\n      console.debug(\"Bokeh: injecting link tag for BokehJS stylesheet: \", url);\n      document.body.appendChild(element);\n    }\n\n    for (let i = 0; i < js_urls.length; i++) {\n      const url = js_urls[i];\n      const element = document.createElement('script');\n      element.onload = on_load;\n      element.onerror = on_error.bind(null, url);\n      element.async = false;\n      element.src = url;\n      console.debug(\"Bokeh: injecting script tag for BokehJS library: \", url);\n      document.head.appendChild(element);\n    }\n  };\n\n  function inject_raw_css(css) {\n    const element = document.createElement(\"style\");\n    element.appendChild(document.createTextNode(css));\n    document.body.appendChild(element);\n  }\n\n  const js_urls = [\"https://cdn.bokeh.org/bokeh/release/bokeh-2.4.3.min.js\", \"https://cdn.bokeh.org/bokeh/release/bokeh-gl-2.4.3.min.js\", \"https://cdn.bokeh.org/bokeh/release/bokeh-widgets-2.4.3.min.js\", \"https://cdn.bokeh.org/bokeh/release/bokeh-tables-2.4.3.min.js\", \"https://cdn.bokeh.org/bokeh/release/bokeh-mathjax-2.4.3.min.js\"];\n  const css_urls = [];\n\n  const inline_js = [    function(Bokeh) {\n      Bokeh.set_log_level(\"info\");\n    },\nfunction(Bokeh) {\n    }\n  ];\n\n  function run_inline_js() {\n    if (root.Bokeh !== undefined || force === true) {\n          for (let i = 0; i < inline_js.length; i++) {\n      inline_js[i].call(root, root.Bokeh);\n    }\nif (force === true) {\n        display_loaded();\n      }} else if (Date.now() < root._bokeh_timeout) {\n      setTimeout(run_inline_js, 100);\n    } else if (!root._bokeh_failed_load) {\n      console.log(\"Bokeh: BokehJS failed to load within specified timeout.\");\n      root._bokeh_failed_load = true;\n    } else if (force !== true) {\n      const cell = $(document.getElementById(\"1002\")).parents('.cell').data().cell;\n      cell.output_area.append_execute_result(NB_LOAD_WARNING)\n    }\n  }\n\n  if (root._bokeh_is_loading === 0) {\n    console.debug(\"Bokeh: BokehJS loaded, going straight to plotting\");\n    run_inline_js();\n  } else {\n    load_libs(css_urls, js_urls, function() {\n      console.debug(\"Bokeh: BokehJS plotting callback run at\", now());\n      run_inline_js();\n    });\n  }\n}(window));"
     },
     "metadata": {},
     "output_type": "display_data"
    }
   ],
   "source": [
    "data_path  = '/data/argoverse_data/v2/train/train_part_1'\n",
    "# pandas_bokeh.output_notebook()\n",
    "# pd.set_option('plotting.backend', 'pandas_bokeh')\n",
    "output_notebook()"
   ]
  },
  {
   "cell_type": "code",
   "execution_count": 3,
   "id": "c4631842-3a3d-4d2a-8f56-36dfb40f1ad0",
   "metadata": {
    "ExecuteTime": {
     "end_time": "2024-07-22T12:32:56.917538Z",
     "start_time": "2024-07-22T12:32:56.913673Z"
    }
   },
   "outputs": [
    {
     "name": "stdout",
     "output_type": "stream",
     "text": [
      "Unique values: [1 2 3 4 5]\n",
      "Number of unique values: 5\n"
     ]
    }
   ],
   "source": [
    "# 创建示例数据\n",
    "data = pd.Series([1, 2, 2, 3, 4, 4, 4, 5])\n",
    "\n",
    "# 获取唯一值\n",
    "unique_values = data.unique()\n",
    "print(\"Unique values:\", unique_values)\n",
    "print(\"Number of unique values:\", len(unique_values))"
   ]
  },
  {
   "cell_type": "code",
   "execution_count": 4,
   "id": "894f52d4c7833ee2",
   "metadata": {
    "collapsed": false,
    "ExecuteTime": {
     "end_time": "2024-07-22T12:32:56.999923Z",
     "start_time": "2024-07-22T12:32:56.918514Z"
    }
   },
   "outputs": [],
   "source": [
    "def get_sub_folders(path):\n",
    "    # 获取指定目录中的所有子文件夹的名字\n",
    "    sub_folders = [name for name in os.listdir(path) if os.path.isdir(os.path.join(path, name))]\n",
    "    return sub_folders\n",
    " \n",
    "raw_case_names = get_sub_folders(data_path)\n",
    " \n",
    " # for raw_file_name in tqdm(self.raw_file_names):\n",
    " #            df = pd.read_parquet(os.path.join(self.raw_dir, raw_file_name, f'scenario_{raw_file_name}.parquet'))\n",
    " #            map_dir = Path(self.raw_dir) / raw_file_name\n",
    " #            map_path = map_dir / sorted(map_dir.glob('log_map_archive_*.json'))[0]\n",
    " #            map_data = read_json_file(map_path)\n",
    " #            centerlines = {lane_segment['id']: Polyline.from_json_data(lane_segment['centerline'])\n",
    " #                           for lane_segment in map_data['lane_segments'].values()}\n",
    " #            map_api = ArgoverseStaticMap.from_json(map_path)\n",
    " #            data = dict()\n",
    " #            data['scenario_id'] = self.get_scenario_id(df)\n",
    " #            data['city'] = self.get_city(df)\n",
    " #            data['agent'] = self.get_agent_features(df)\n",
    " #            data.update(self.get_map_features(map_api, centerlines))"
   ]
  },
  {
   "cell_type": "code",
   "execution_count": 5,
   "id": "3daea6e1e490c48f",
   "metadata": {
    "collapsed": false,
    "ExecuteTime": {
     "end_time": "2024-07-22T12:32:57.020203Z",
     "start_time": "2024-07-22T12:32:57.000981Z"
    }
   },
   "outputs": [],
   "source": [
    "raw_case_name = raw_case_names[0]\n",
    "data_parquet = os.path.join(data_path,raw_case_name,'scenario_'+ raw_case_name + '.parquet')\n",
    "raw_case = pd.read_parquet(data_parquet)"
   ]
  },
  {
   "cell_type": "code",
   "outputs": [],
   "source": [],
   "metadata": {
    "collapsed": false,
    "ExecuteTime": {
     "end_time": "2024-07-22T12:32:57.023024Z",
     "start_time": "2024-07-22T12:32:57.021255Z"
    }
   },
   "id": "8a31a14c466d483b",
   "execution_count": 5
  },
  {
   "cell_type": "code",
   "execution_count": 6,
   "id": "b9dafb74-eb75-4754-99ef-6e19fd597c7a",
   "metadata": {
    "ExecuteTime": {
     "end_time": "2024-07-22T12:32:57.030880Z",
     "start_time": "2024-07-22T12:32:57.024006Z"
    }
   },
   "outputs": [],
   "source": [
    "def get_case_feature(parquet_path) -> dict:\n",
    "    num_history_point = 50\n",
    "    raw_case = pd.read_parquet(data_parquet)\n",
    "    unique_values = raw_case.start_timestamp.unique()\n",
    "\n",
    "    feature_dict = {}\n",
    "    \n",
    "    # for time in unique_values:\n",
    "    #     print(f\"{time:f}\",\" \")\n",
    "    # print(\"Number of unique values:\", len(unique_values))\n",
    "    \n",
    "    end_unique_values = raw_case.end_timestamp.unique()\n",
    "    \n",
    "    # for time in end_unique_values:\n",
    "    #     print(f\"{time:f}\",\" \")\n",
    "    # print(\"Number of unique values:\", len(end_unique_values))\n",
    "    \n",
    "    # print(\"time horizen is: \" , (end_unique_values[0] - unique_values[0])* 1e-9, \"s\")\n",
    "    # print(\"time step is: \" , (end_unique_values[0] - unique_values[0])* 1e-9/(raw_case.num_timestamps[0] -1), \"s\")\n",
    "    track_id_unique_values = raw_case.track_id.unique()\n",
    "    trak_id_sum = len(track_id_unique_values) -1\n",
    "    valid_list = []\n",
    "    valid_agent_sum = 0\n",
    "    for trak_id, track_df in raw_case.groupby(\"track_id\"):\n",
    "        # print(track_df)\n",
    "        count_valid = (track_df['timestep'] < 50).sum()\n",
    "        valid_list.append(float(count_valid)/float(num_history_point))\n",
    "        if float(count_valid)/float(num_history_point) > 0.0:\n",
    "            valid_agent_sum = valid_agent_sum + 1\n",
    "        # print(\"valid rate\", f\"{float(count_valid)/float(num_history_point)}f\")\n",
    "    # print(\"Number of unique values:\", len(track_id_unique_values))\n",
    "\n",
    "    # get AV vel feature\n",
    "    filtered_rows = raw_case[raw_case['track_id'] == 'AV']\n",
    "\n",
    "    # previous_position = None\n",
    "    # distances = []\n",
    "    # vel = []\n",
    "    # for index, row in filtered_rows.iterrows():\n",
    "    #     current_position = np.array([row['position_x'], row['position_y']])\n",
    "        \n",
    "    #     if previous_position is not None:\n",
    "    #         distance = np.linalg.norm(current_position - previous_position)\n",
    "    #         distances.append(distance)\n",
    "    #         vel.append((row['velocity_x'] **2 + row['velocity_y']** 2) ** 0.5 )\n",
    "    #     else:\n",
    "    #         distances.append(0)  # 第一行距离为0\n",
    "    #         vel.append(0)\n",
    "        \n",
    "    #     previous_position = current_position\n",
    "    # for n in range(min(len(vel),len(distances))):\n",
    "    #     print(\"dis:\", distances[n],  \" vel:\", vel[n] * 0.1)  \n",
    "    \n",
    "    vel_list = []\n",
    "\n",
    "    for index, row in filtered_rows.iterrows():\n",
    "        current_v = np.array([row['velocity_x'], row['velocity_y']])\n",
    "        vel_list.append(np.linalg.norm(current_v))\n",
    "    \n",
    "    max_vel = max(vel_list)\n",
    "    min_vel = min(vel_list)\n",
    "    aver_vel = sum(vel_list) / len(vel_list)\n",
    "\n",
    "    feature_dict = {    \n",
    "        \"AV_max_vel\":max_vel,\n",
    "        \"AV_min_vel\":min_vel,\n",
    "        \"AV_average_vel\":aver_vel,\n",
    "        \"valid_list\":valid_list,\n",
    "        \"valid_agent_sum\":valid_agent_sum\n",
    "    }\n",
    "    \n",
    "    return feature_dict"
   ]
  },
  {
   "cell_type": "code",
   "execution_count": 7,
   "id": "18040b67-a22d-41cb-add9-eb5de982c79d",
   "metadata": {
    "ExecuteTime": {
     "end_time": "2024-07-22T12:44:45.392858Z",
     "start_time": "2024-07-22T12:32:57.032121Z"
    }
   },
   "outputs": [
    {
     "data": {
      "text/plain": "    AV_max_vel  AV_min_vel  AV_average_vel  \\\n0     1.507082    0.002490        0.527935   \n0     9.806533    0.000384        3.987523   \n0    13.323682    4.380413       11.953260   \n0     9.739502    0.000000        6.518794   \n0    12.164614    0.007204       10.024606   \n..         ...         ...             ...   \n0    11.513977    0.029528       10.375436   \n0     9.274381    0.000021        2.346213   \n0     8.179656    0.026141        4.829925   \n0    11.060655    4.296875       10.535135   \n0     0.365025    0.000000        0.026377   \n\n                                           valid_list  valid_agent_sum  \n0   [1.0, 1.0, 1.0, 0.6, 0.96, 0.7, 1.0, 0.96, 1.0...               56  \n0   [0.22, 0.42, 0.98, 0.8, 0.84, 0.84, 1.0, 0.46,...               33  \n0   [1.0, 1.0, 1.0, 1.0, 0.3, 0.94, 0.78, 0.54, 0....               12  \n0   [1.0, 1.0, 1.0, 1.0, 1.0, 1.0, 0.28, 1.0, 1.0,...               47  \n0   [0.92, 1.0, 1.0, 0.98, 1.0, 1.0, 0.68, 1.0, 1....               36  \n..                                                ...              ...  \n0   [1.0, 1.0, 0.36, 1.0, 0.68, 0.6, 1.0, 0.5, 1.0...               45  \n0   [1.0, 0.38, 0.94, 1.0, 1.0, 0.88, 1.0, 1.0, 1....               15  \n0   [1.0, 1.0, 1.0, 1.0, 1.0, 1.0, 1.0, 1.0, 1.0, ...               21  \n0   [1.0, 1.0, 1.0, 0.38, 0.88, 0.82, 0.24, 0.56, ...               24  \n0   [1.0, 1.0, 1.0, 1.0, 1.0, 1.0, 1.0, 0.96, 1.0,...               43  \n\n[19991 rows x 5 columns]",
      "text/html": "<div>\n<style scoped>\n    .dataframe tbody tr th:only-of-type {\n        vertical-align: middle;\n    }\n\n    .dataframe tbody tr th {\n        vertical-align: top;\n    }\n\n    .dataframe thead th {\n        text-align: right;\n    }\n</style>\n<table border=\"1\" class=\"dataframe\">\n  <thead>\n    <tr style=\"text-align: right;\">\n      <th></th>\n      <th>AV_max_vel</th>\n      <th>AV_min_vel</th>\n      <th>AV_average_vel</th>\n      <th>valid_list</th>\n      <th>valid_agent_sum</th>\n    </tr>\n  </thead>\n  <tbody>\n    <tr>\n      <th>0</th>\n      <td>1.507082</td>\n      <td>0.002490</td>\n      <td>0.527935</td>\n      <td>[1.0, 1.0, 1.0, 0.6, 0.96, 0.7, 1.0, 0.96, 1.0...</td>\n      <td>56</td>\n    </tr>\n    <tr>\n      <th>0</th>\n      <td>9.806533</td>\n      <td>0.000384</td>\n      <td>3.987523</td>\n      <td>[0.22, 0.42, 0.98, 0.8, 0.84, 0.84, 1.0, 0.46,...</td>\n      <td>33</td>\n    </tr>\n    <tr>\n      <th>0</th>\n      <td>13.323682</td>\n      <td>4.380413</td>\n      <td>11.953260</td>\n      <td>[1.0, 1.0, 1.0, 1.0, 0.3, 0.94, 0.78, 0.54, 0....</td>\n      <td>12</td>\n    </tr>\n    <tr>\n      <th>0</th>\n      <td>9.739502</td>\n      <td>0.000000</td>\n      <td>6.518794</td>\n      <td>[1.0, 1.0, 1.0, 1.0, 1.0, 1.0, 0.28, 1.0, 1.0,...</td>\n      <td>47</td>\n    </tr>\n    <tr>\n      <th>0</th>\n      <td>12.164614</td>\n      <td>0.007204</td>\n      <td>10.024606</td>\n      <td>[0.92, 1.0, 1.0, 0.98, 1.0, 1.0, 0.68, 1.0, 1....</td>\n      <td>36</td>\n    </tr>\n    <tr>\n      <th>...</th>\n      <td>...</td>\n      <td>...</td>\n      <td>...</td>\n      <td>...</td>\n      <td>...</td>\n    </tr>\n    <tr>\n      <th>0</th>\n      <td>11.513977</td>\n      <td>0.029528</td>\n      <td>10.375436</td>\n      <td>[1.0, 1.0, 0.36, 1.0, 0.68, 0.6, 1.0, 0.5, 1.0...</td>\n      <td>45</td>\n    </tr>\n    <tr>\n      <th>0</th>\n      <td>9.274381</td>\n      <td>0.000021</td>\n      <td>2.346213</td>\n      <td>[1.0, 0.38, 0.94, 1.0, 1.0, 0.88, 1.0, 1.0, 1....</td>\n      <td>15</td>\n    </tr>\n    <tr>\n      <th>0</th>\n      <td>8.179656</td>\n      <td>0.026141</td>\n      <td>4.829925</td>\n      <td>[1.0, 1.0, 1.0, 1.0, 1.0, 1.0, 1.0, 1.0, 1.0, ...</td>\n      <td>21</td>\n    </tr>\n    <tr>\n      <th>0</th>\n      <td>11.060655</td>\n      <td>4.296875</td>\n      <td>10.535135</td>\n      <td>[1.0, 1.0, 1.0, 0.38, 0.88, 0.82, 0.24, 0.56, ...</td>\n      <td>24</td>\n    </tr>\n    <tr>\n      <th>0</th>\n      <td>0.365025</td>\n      <td>0.000000</td>\n      <td>0.026377</td>\n      <td>[1.0, 1.0, 1.0, 1.0, 1.0, 1.0, 1.0, 0.96, 1.0,...</td>\n      <td>43</td>\n    </tr>\n  </tbody>\n</table>\n<p>19991 rows × 5 columns</p>\n</div>"
     },
     "execution_count": 7,
     "metadata": {},
     "output_type": "execute_result"
    }
   ],
   "source": [
    "df_feature_all = None\n",
    "\n",
    "for raw_case_name in raw_case_names:\n",
    "    data_parquet = os.path.join(data_path,raw_case_name,'scenario_'+ raw_case_name + '.parquet')\n",
    "    data_feature = get_case_feature(data_parquet)\n",
    "    if df_feature_all is None:\n",
    "        df_feature_all = pd.DataFrame([data_feature])\n",
    "    else:\n",
    "        df_feature_all = pd.concat([df_feature_all,pd.DataFrame([data_feature])], ignore_index = False)\n",
    "df_feature_all"
   ]
  },
  {
   "cell_type": "code",
   "execution_count": 8,
   "id": "84b19f40-1fdc-4599-b6e3-6d840b48b1d2",
   "metadata": {
    "ExecuteTime": {
     "end_time": "2024-07-22T12:44:45.432595Z",
     "start_time": "2024-07-22T12:44:45.393986Z"
    }
   },
   "outputs": [
    {
     "name": "stdout",
     "output_type": "stream",
     "text": [
      "{'0.0 - 1.0': [3211, 16259, 4926], '1.0 - 10.0': [9140, 3583, 11419], '10.0 - 20.0': [7640, 149, 3646], '20.0 - 30.0': [0, 0, 0], '30.0 - 60.0': [0, 0, 0]}\n"
     ]
    },
    {
     "data": {
      "text/html": "\n  <div class=\"bk-root\" id=\"3418d51d-8250-4551-9eac-0e820a47d3cc\" data-root-id=\"1005\"></div>\n"
     },
     "metadata": {},
     "output_type": "display_data"
    },
    {
     "data": {
      "application/javascript": "(function(root) {\n  function embed_document(root) {\n  const docs_json = {\"4c0ea76c-6998-4f2e-a74e-0763336eb06b\":{\"defs\":[],\"roots\":{\"references\":[{\"attributes\":{\"background_fill_color\":\"#20262B\",\"below\":[{\"id\":\"1015\"}],\"border_fill_color\":\"#15191C\",\"center\":[{\"id\":\"1017\"},{\"id\":\"1021\"}],\"height\":350,\"left\":[{\"id\":\"1018\"}],\"outline_line_alpha\":0.25,\"outline_line_color\":\"#E0E0E0\",\"renderers\":[{\"id\":\"1027\"}],\"title\":{\"id\":\"1006\"},\"toolbar\":{\"id\":\"1022\"},\"toolbar_location\":null,\"x_range\":{\"id\":\"1004\"},\"x_scale\":{\"id\":\"1011\"},\"y_range\":{\"id\":\"1009\"},\"y_scale\":{\"id\":\"1013\"}},\"id\":\"1005\",\"subtype\":\"Figure\",\"type\":\"Plot\"},{\"attributes\":{\"axis\":{\"id\":\"1015\"},\"coordinates\":null,\"grid_line_alpha\":0.25,\"grid_line_color\":null,\"group\":null,\"ticker\":null},\"id\":\"1017\",\"type\":\"Grid\"},{\"attributes\":{},\"id\":\"1013\",\"type\":\"LinearScale\"},{\"attributes\":{\"axis_label_standoff\":10,\"axis_label_text_color\":\"#E0E0E0\",\"axis_label_text_font\":\"Helvetica\",\"axis_label_text_font_size\":\"1.25em\",\"axis_label_text_font_style\":\"normal\",\"axis_line_alpha\":0,\"axis_line_color\":\"#E0E0E0\",\"coordinates\":null,\"formatter\":{\"id\":\"1034\"},\"group\":null,\"major_label_orientation\":1,\"major_label_policy\":{\"id\":\"1035\"},\"major_label_text_color\":\"#E0E0E0\",\"major_label_text_font\":\"Helvetica\",\"major_label_text_font_size\":\"1.025em\",\"major_tick_line_alpha\":0,\"major_tick_line_color\":\"#E0E0E0\",\"minor_tick_line_alpha\":0,\"minor_tick_line_color\":\"#E0E0E0\",\"ticker\":{\"id\":\"1016\"}},\"id\":\"1015\",\"type\":\"CategoricalAxis\"},{\"attributes\":{},\"id\":\"1031\",\"type\":\"BasicTickFormatter\"},{\"attributes\":{\"start\":0},\"id\":\"1009\",\"type\":\"DataRange1d\"},{\"attributes\":{\"axis_label_standoff\":10,\"axis_label_text_color\":\"#E0E0E0\",\"axis_label_text_font\":\"Helvetica\",\"axis_label_text_font_size\":\"1.25em\",\"axis_label_text_font_style\":\"normal\",\"axis_line_alpha\":0,\"axis_line_color\":\"#E0E0E0\",\"coordinates\":null,\"formatter\":{\"id\":\"1031\"},\"group\":null,\"major_label_policy\":{\"id\":\"1032\"},\"major_label_text_color\":\"#E0E0E0\",\"major_label_text_font\":\"Helvetica\",\"major_label_text_font_size\":\"1.025em\",\"major_tick_line_alpha\":0,\"major_tick_line_color\":\"#E0E0E0\",\"minor_tick_line_alpha\":0,\"minor_tick_line_color\":\"#E0E0E0\",\"ticker\":{\"id\":\"1019\"}},\"id\":\"1018\",\"type\":\"LinearAxis\"},{\"attributes\":{\"fill_alpha\":{\"value\":0.1},\"fill_color\":{\"value\":\"#1f77b4\"},\"hatch_alpha\":{\"value\":0.1},\"line_alpha\":{\"value\":0.1},\"line_color\":{\"value\":\"#1f77b4\"},\"top\":{\"field\":\"counts\"},\"width\":{\"value\":0.9},\"x\":{\"field\":\"x\"}},\"id\":\"1025\",\"type\":\"VBar\"},{\"attributes\":{\"coordinates\":null,\"data_source\":{\"id\":\"1003\"},\"glyph\":{\"id\":\"1024\"},\"group\":null,\"hover_glyph\":null,\"muted_glyph\":{\"id\":\"1026\"},\"nonselection_glyph\":{\"id\":\"1025\"},\"view\":{\"id\":\"1028\"}},\"id\":\"1027\",\"type\":\"GlyphRenderer\"},{\"attributes\":{},\"id\":\"1034\",\"type\":\"CategoricalTickFormatter\"},{\"attributes\":{\"factors\":[[\"AV_max_vel\",\"0.0 - 1.0\"],[\"AV_max_vel\",\"1.0 - 10.0\"],[\"AV_max_vel\",\"10.0 - 20.0\"],[\"AV_max_vel\",\"20.0 - 30.0\"],[\"AV_max_vel\",\"30.0 - 60.0\"],[\"AV_min_vel\",\"0.0 - 1.0\"],[\"AV_min_vel\",\"1.0 - 10.0\"],[\"AV_min_vel\",\"10.0 - 20.0\"],[\"AV_min_vel\",\"20.0 - 30.0\"],[\"AV_min_vel\",\"30.0 - 60.0\"],[\"AV_average_vel\",\"0.0 - 1.0\"],[\"AV_average_vel\",\"1.0 - 10.0\"],[\"AV_average_vel\",\"10.0 - 20.0\"],[\"AV_average_vel\",\"20.0 - 30.0\"],[\"AV_average_vel\",\"30.0 - 60.0\"]],\"range_padding\":0.1},\"id\":\"1004\",\"type\":\"FactorRange\"},{\"attributes\":{},\"id\":\"1035\",\"type\":\"AllLabels\"},{\"attributes\":{},\"id\":\"1011\",\"type\":\"CategoricalScale\"},{\"attributes\":{\"data\":{\"counts\":[3211,9140,7640,0,0,16259,3583,149,0,0,4926,11419,3646,0,0],\"x\":[[\"AV_max_vel\",\"0.0 - 1.0\"],[\"AV_max_vel\",\"1.0 - 10.0\"],[\"AV_max_vel\",\"10.0 - 20.0\"],[\"AV_max_vel\",\"20.0 - 30.0\"],[\"AV_max_vel\",\"30.0 - 60.0\"],[\"AV_min_vel\",\"0.0 - 1.0\"],[\"AV_min_vel\",\"1.0 - 10.0\"],[\"AV_min_vel\",\"10.0 - 20.0\"],[\"AV_min_vel\",\"20.0 - 30.0\"],[\"AV_min_vel\",\"30.0 - 60.0\"],[\"AV_average_vel\",\"0.0 - 1.0\"],[\"AV_average_vel\",\"1.0 - 10.0\"],[\"AV_average_vel\",\"10.0 - 20.0\"],[\"AV_average_vel\",\"20.0 - 30.0\"],[\"AV_average_vel\",\"30.0 - 60.0\"]]},\"selected\":{\"id\":\"1037\"},\"selection_policy\":{\"id\":\"1036\"}},\"id\":\"1003\",\"type\":\"ColumnDataSource\"},{\"attributes\":{},\"id\":\"1032\",\"type\":\"AllLabels\"},{\"attributes\":{},\"id\":\"1036\",\"type\":\"UnionRenderers\"},{\"attributes\":{\"source\":{\"id\":\"1003\"}},\"id\":\"1028\",\"type\":\"CDSView\"},{\"attributes\":{\"fill_color\":{\"value\":\"#1f77b4\"},\"line_color\":{\"value\":\"#1f77b4\"},\"top\":{\"field\":\"counts\"},\"width\":{\"value\":0.9},\"x\":{\"field\":\"x\"}},\"id\":\"1024\",\"type\":\"VBar\"},{\"attributes\":{},\"id\":\"1019\",\"type\":\"BasicTicker\"},{\"attributes\":{},\"id\":\"1037\",\"type\":\"Selection\"},{\"attributes\":{\"coordinates\":null,\"group\":null,\"text\":\"Fruit Counts by Year\",\"text_color\":\"#E0E0E0\",\"text_font\":\"Helvetica\",\"text_font_size\":\"1.15em\"},\"id\":\"1006\",\"type\":\"Title\"},{\"attributes\":{\"fill_alpha\":{\"value\":0.2},\"fill_color\":{\"value\":\"#1f77b4\"},\"hatch_alpha\":{\"value\":0.2},\"line_alpha\":{\"value\":0.2},\"line_color\":{\"value\":\"#1f77b4\"},\"top\":{\"field\":\"counts\"},\"width\":{\"value\":0.9},\"x\":{\"field\":\"x\"}},\"id\":\"1026\",\"type\":\"VBar\"},{\"attributes\":{},\"id\":\"1016\",\"type\":\"CategoricalTicker\"},{\"attributes\":{\"axis\":{\"id\":\"1018\"},\"coordinates\":null,\"dimension\":1,\"grid_line_alpha\":0.25,\"grid_line_color\":\"#E0E0E0\",\"group\":null,\"ticker\":null},\"id\":\"1021\",\"type\":\"Grid\"},{\"attributes\":{},\"id\":\"1022\",\"type\":\"Toolbar\"}],\"root_ids\":[\"1005\"]},\"title\":\"Bokeh Application\",\"version\":\"2.4.3\"}};\n  const render_items = [{\"docid\":\"4c0ea76c-6998-4f2e-a74e-0763336eb06b\",\"root_ids\":[\"1005\"],\"roots\":{\"1005\":\"3418d51d-8250-4551-9eac-0e820a47d3cc\"}}];\n  root.Bokeh.embed.embed_items_notebook(docs_json, render_items);\n  }\n  if (root.Bokeh !== undefined) {\n    embed_document(root);\n  } else {\n    let attempts = 0;\n    const timer = setInterval(function(root) {\n      if (root.Bokeh !== undefined) {\n        clearInterval(timer);\n        embed_document(root);\n      } else {\n        attempts++;\n        if (attempts > 100) {\n          clearInterval(timer);\n          console.log(\"Bokeh: ERROR: Unable to run BokehJS code because BokehJS library is missing\");\n        }\n      }\n    }, 10, root)\n  }\n})(window);",
      "application/vnd.bokehjs_exec.v0+json": ""
     },
     "metadata": {
      "application/vnd.bokehjs_exec.v0+json": {
       "id": "1005"
      }
     },
     "output_type": "display_data"
    }
   ],
   "source": [
    "\n",
    "def generate_bar_data(match_pts,data):\n",
    "    cls = []\n",
    "    cls_sum = []\n",
    "    pre_pt = None\n",
    "    for pts in match_pts:\n",
    "        if pre_pt is None:\n",
    "            pre_pt = pts\n",
    "            continue\n",
    "        else:\n",
    "            cls.append(f\"{pre_pt:.1f}\" + \" - \" + f\"{pts:.1f}\")\n",
    "            condition = (data >= pre_pt) & (data < pts)\n",
    "            cls_sum.append(condition.sum())\n",
    "            pre_pt = pts\n",
    "    return {\"cls\": cls, \"cls_sum\": cls_sum}\n",
    "\n",
    "\n",
    "vel_check_points = [0.0,1.0,10.0,20.0,30.0,60.0]\n",
    "AV_max_vel_cls_res = generate_bar_data(vel_check_points,df_feature_all['AV_max_vel'])\n",
    "\n",
    "# AV_min_vel_points = [0.0,1.0,10.0,20.0,30.0,60.0]\n",
    "# AV_min_vel_cls_res = generate_bar_data(vel_check_points,df_feature_all['AV_min_vel'])\n",
    "\n",
    "# AV_ave_vel_points = [0.0,1.0,10.0,20.0,30.0,60.0]\n",
    "# AV_ave_vel_cls_res = generate_bar_data(vel_check_points,df_feature_all['AV_average_vel'])\n",
    "\n",
    "feature_vel_list = ['AV_max_vel',\"AV_min_vel\",\"AV_average_vel\"]\n",
    "\n",
    "feat_vel_data = {}\n",
    "for feature in feature_vel_list:\n",
    "    res = generate_bar_data(vel_check_points,df_feature_all[feature])\n",
    "    count = 0\n",
    "    for ckp_feature in res['cls']:\n",
    "        if ckp_feature not in feat_vel_data.keys():\n",
    "            feat_vel_data[ckp_feature] = [res['cls_sum'][count]]\n",
    "        else:\n",
    "            feat_vel_data[ckp_feature].append(res['cls_sum'][count])\n",
    "        count = count + 1\n",
    "    \n",
    "print(feat_vel_data)\n",
    "# print(AV_max_vel_cls_res['cls_sum'])\n",
    "# print(AV_min_vel_cls_res['cls_sum'])\n",
    "# print(AV_ave_vel_cls_res['cls_sum'])\n",
    "\n",
    "\n",
    "x = [ (feature, ckp_feature) for feature in feature_vel_list for ckp_feature in AV_max_vel_cls_res['cls'] ]\n",
    "counts = sum(zip(*feat_vel_data.values()),())\n",
    "\n",
    "source = ColumnDataSource(data=dict(x=x, counts=counts))\n",
    "\n",
    "p = figure(x_range=FactorRange(*x), height=350, title=\"Fruit Counts by Year\",\n",
    "           toolbar_location=None, tools=\"\")\n",
    "\n",
    "p.vbar(x='x', top='counts', width=0.9, source=source)\n",
    "\n",
    "p.y_range.start = 0\n",
    "p.x_range.range_padding = 0.1\n",
    "p.xaxis.major_label_orientation = 1\n",
    "p.xgrid.grid_line_color = None\n",
    "\n",
    "show(p)\n",
    "# show(p)"
   ]
  },
  {
   "cell_type": "code",
   "outputs": [
    {
     "name": "stdout",
     "output_type": "stream",
     "text": [
      "[('Apples', '2015'), ('Apples', '2016'), ('Apples', '2017'), ('Pears', '2015'), ('Pears', '2016'), ('Pears', '2017'), ('Nectarines', '2015'), ('Nectarines', '2016'), ('Nectarines', '2017'), ('Plums', '2015'), ('Plums', '2016'), ('Plums', '2017'), ('Grapes', '2015'), ('Grapes', '2016'), ('Grapes', '2017'), ('Strawberries', '2015'), ('Strawberries', '2016'), ('Strawberries', '2017')]\n"
     ]
    },
    {
     "data": {
      "text/html": "\n  <div class=\"bk-root\" id=\"be070f7d-6169-4678-8295-21b76666a0a4\" data-root-id=\"1085\"></div>\n"
     },
     "metadata": {},
     "output_type": "display_data"
    },
    {
     "data": {
      "application/javascript": "(function(root) {\n  function embed_document(root) {\n  const docs_json = {\"821161ea-14bb-4932-98c7-8cd56fc7e97e\":{\"defs\":[],\"roots\":{\"references\":[{\"attributes\":{\"background_fill_color\":\"#20262B\",\"below\":[{\"id\":\"1095\"}],\"border_fill_color\":\"#15191C\",\"center\":[{\"id\":\"1097\"},{\"id\":\"1101\"}],\"height\":350,\"left\":[{\"id\":\"1098\"}],\"outline_line_alpha\":0.25,\"outline_line_color\":\"#E0E0E0\",\"renderers\":[{\"id\":\"1107\"}],\"title\":{\"id\":\"1086\"},\"toolbar\":{\"id\":\"1102\"},\"toolbar_location\":null,\"x_range\":{\"id\":\"1084\"},\"x_scale\":{\"id\":\"1091\"},\"y_range\":{\"id\":\"1089\"},\"y_scale\":{\"id\":\"1093\"}},\"id\":\"1085\",\"subtype\":\"Figure\",\"type\":\"Plot\"},{\"attributes\":{\"axis_label_standoff\":10,\"axis_label_text_color\":\"#E0E0E0\",\"axis_label_text_font\":\"Helvetica\",\"axis_label_text_font_size\":\"1.25em\",\"axis_label_text_font_style\":\"normal\",\"axis_line_alpha\":0,\"axis_line_color\":\"#E0E0E0\",\"coordinates\":null,\"formatter\":{\"id\":\"1120\"},\"group\":null,\"major_label_policy\":{\"id\":\"1121\"},\"major_label_text_color\":\"#E0E0E0\",\"major_label_text_font\":\"Helvetica\",\"major_label_text_font_size\":\"1.025em\",\"major_tick_line_alpha\":0,\"major_tick_line_color\":\"#E0E0E0\",\"minor_tick_line_alpha\":0,\"minor_tick_line_color\":\"#E0E0E0\",\"ticker\":{\"id\":\"1099\"}},\"id\":\"1098\",\"type\":\"LinearAxis\"},{\"attributes\":{\"fill_color\":{\"value\":\"#1f77b4\"},\"line_color\":{\"value\":\"#1f77b4\"},\"top\":{\"field\":\"counts\"},\"width\":{\"value\":0.9},\"x\":{\"field\":\"x\"}},\"id\":\"1104\",\"type\":\"VBar\"},{\"attributes\":{\"axis\":{\"id\":\"1095\"},\"coordinates\":null,\"grid_line_alpha\":0.25,\"grid_line_color\":null,\"group\":null,\"ticker\":null},\"id\":\"1097\",\"type\":\"Grid\"},{\"attributes\":{\"axis\":{\"id\":\"1098\"},\"coordinates\":null,\"dimension\":1,\"grid_line_alpha\":0.25,\"grid_line_color\":\"#E0E0E0\",\"group\":null,\"ticker\":null},\"id\":\"1101\",\"type\":\"Grid\"},{\"attributes\":{\"start\":0},\"id\":\"1089\",\"type\":\"DataRange1d\"},{\"attributes\":{},\"id\":\"1093\",\"type\":\"LinearScale\"},{\"attributes\":{},\"id\":\"1099\",\"type\":\"BasicTicker\"},{\"attributes\":{},\"id\":\"1102\",\"type\":\"Toolbar\"},{\"attributes\":{\"source\":{\"id\":\"1083\"}},\"id\":\"1108\",\"type\":\"CDSView\"},{\"attributes\":{},\"id\":\"1091\",\"type\":\"CategoricalScale\"},{\"attributes\":{},\"id\":\"1120\",\"type\":\"BasicTickFormatter\"},{\"attributes\":{\"data\":{\"counts\":[2,5,3,1,3,2,4,3,4,3,2,4,2,4,5,4,6,3],\"x\":[[\"Apples\",\"2015\"],[\"Apples\",\"2016\"],[\"Apples\",\"2017\"],[\"Pears\",\"2015\"],[\"Pears\",\"2016\"],[\"Pears\",\"2017\"],[\"Nectarines\",\"2015\"],[\"Nectarines\",\"2016\"],[\"Nectarines\",\"2017\"],[\"Plums\",\"2015\"],[\"Plums\",\"2016\"],[\"Plums\",\"2017\"],[\"Grapes\",\"2015\"],[\"Grapes\",\"2016\"],[\"Grapes\",\"2017\"],[\"Strawberries\",\"2015\"],[\"Strawberries\",\"2016\"],[\"Strawberries\",\"2017\"]]},\"selected\":{\"id\":\"1126\"},\"selection_policy\":{\"id\":\"1125\"}},\"id\":\"1083\",\"type\":\"ColumnDataSource\"},{\"attributes\":{\"fill_alpha\":{\"value\":0.2},\"fill_color\":{\"value\":\"#1f77b4\"},\"hatch_alpha\":{\"value\":0.2},\"line_alpha\":{\"value\":0.2},\"line_color\":{\"value\":\"#1f77b4\"},\"top\":{\"field\":\"counts\"},\"width\":{\"value\":0.9},\"x\":{\"field\":\"x\"}},\"id\":\"1106\",\"type\":\"VBar\"},{\"attributes\":{\"coordinates\":null,\"data_source\":{\"id\":\"1083\"},\"glyph\":{\"id\":\"1104\"},\"group\":null,\"hover_glyph\":null,\"muted_glyph\":{\"id\":\"1106\"},\"nonselection_glyph\":{\"id\":\"1105\"},\"view\":{\"id\":\"1108\"}},\"id\":\"1107\",\"type\":\"GlyphRenderer\"},{\"attributes\":{},\"id\":\"1121\",\"type\":\"AllLabels\"},{\"attributes\":{\"coordinates\":null,\"group\":null,\"text\":\"Fruit Counts by Year\",\"text_color\":\"#E0E0E0\",\"text_font\":\"Helvetica\",\"text_font_size\":\"1.15em\"},\"id\":\"1086\",\"type\":\"Title\"},{\"attributes\":{\"fill_alpha\":{\"value\":0.1},\"fill_color\":{\"value\":\"#1f77b4\"},\"hatch_alpha\":{\"value\":0.1},\"line_alpha\":{\"value\":0.1},\"line_color\":{\"value\":\"#1f77b4\"},\"top\":{\"field\":\"counts\"},\"width\":{\"value\":0.9},\"x\":{\"field\":\"x\"}},\"id\":\"1105\",\"type\":\"VBar\"},{\"attributes\":{},\"id\":\"1096\",\"type\":\"CategoricalTicker\"},{\"attributes\":{},\"id\":\"1123\",\"type\":\"CategoricalTickFormatter\"},{\"attributes\":{},\"id\":\"1124\",\"type\":\"AllLabels\"},{\"attributes\":{\"axis_label_standoff\":10,\"axis_label_text_color\":\"#E0E0E0\",\"axis_label_text_font\":\"Helvetica\",\"axis_label_text_font_size\":\"1.25em\",\"axis_label_text_font_style\":\"normal\",\"axis_line_alpha\":0,\"axis_line_color\":\"#E0E0E0\",\"coordinates\":null,\"formatter\":{\"id\":\"1123\"},\"group\":null,\"major_label_orientation\":1,\"major_label_policy\":{\"id\":\"1124\"},\"major_label_text_color\":\"#E0E0E0\",\"major_label_text_font\":\"Helvetica\",\"major_label_text_font_size\":\"1.025em\",\"major_tick_line_alpha\":0,\"major_tick_line_color\":\"#E0E0E0\",\"minor_tick_line_alpha\":0,\"minor_tick_line_color\":\"#E0E0E0\",\"ticker\":{\"id\":\"1096\"}},\"id\":\"1095\",\"type\":\"CategoricalAxis\"},{\"attributes\":{\"factors\":[[\"Apples\",\"2015\"],[\"Apples\",\"2016\"],[\"Apples\",\"2017\"],[\"Pears\",\"2015\"],[\"Pears\",\"2016\"],[\"Pears\",\"2017\"],[\"Nectarines\",\"2015\"],[\"Nectarines\",\"2016\"],[\"Nectarines\",\"2017\"],[\"Plums\",\"2015\"],[\"Plums\",\"2016\"],[\"Plums\",\"2017\"],[\"Grapes\",\"2015\"],[\"Grapes\",\"2016\"],[\"Grapes\",\"2017\"],[\"Strawberries\",\"2015\"],[\"Strawberries\",\"2016\"],[\"Strawberries\",\"2017\"]],\"range_padding\":0.1},\"id\":\"1084\",\"type\":\"FactorRange\"},{\"attributes\":{},\"id\":\"1125\",\"type\":\"UnionRenderers\"},{\"attributes\":{},\"id\":\"1126\",\"type\":\"Selection\"}],\"root_ids\":[\"1085\"]},\"title\":\"Bokeh Application\",\"version\":\"2.4.3\"}};\n  const render_items = [{\"docid\":\"821161ea-14bb-4932-98c7-8cd56fc7e97e\",\"root_ids\":[\"1085\"],\"roots\":{\"1085\":\"be070f7d-6169-4678-8295-21b76666a0a4\"}}];\n  root.Bokeh.embed.embed_items_notebook(docs_json, render_items);\n  }\n  if (root.Bokeh !== undefined) {\n    embed_document(root);\n  } else {\n    let attempts = 0;\n    const timer = setInterval(function(root) {\n      if (root.Bokeh !== undefined) {\n        clearInterval(timer);\n        embed_document(root);\n      } else {\n        attempts++;\n        if (attempts > 100) {\n          clearInterval(timer);\n          console.log(\"Bokeh: ERROR: Unable to run BokehJS code because BokehJS library is missing\");\n        }\n      }\n    }, 10, root)\n  }\n})(window);",
      "application/vnd.bokehjs_exec.v0+json": ""
     },
     "metadata": {
      "application/vnd.bokehjs_exec.v0+json": {
       "id": "1085"
      }
     },
     "output_type": "display_data"
    }
   ],
   "source": [
    "# demo\n",
    "\n",
    "fruits = ['Apples', 'Pears', 'Nectarines', 'Plums', 'Grapes', 'Strawberries']\n",
    "years = ['2015', '2016', '2017']\n",
    "\n",
    "data = {'fruits' : fruits,\n",
    "        '2015'   : [2, 1, 4, 3, 2, 4],\n",
    "        '2016'   : [5, 3, 3, 2, 4, 6],\n",
    "        '2017'   : [3, 2, 4, 4, 5, 3]}\n",
    "\n",
    "# this creates [ (\"Apples\", \"2015\"), (\"Apples\", \"2016\"), (\"Apples\", \"2017\"), (\"Pears\", \"2015), ... ]\n",
    "x = [ (fruit, year) for fruit in fruits for year in years ]\n",
    "print(x)\n",
    "counts = sum(zip(data['2015'], data['2016'], data['2017']), ()) # like an hstack\n",
    "\n",
    "source = ColumnDataSource(data=dict(x=x, counts=counts))\n",
    "\n",
    "p = figure(x_range=FactorRange(*x), height=350, title=\"Fruit Counts by Year\",\n",
    "           toolbar_location=None, tools=\"\")\n",
    "\n",
    "p.vbar(x='x', top='counts', width=0.9, source=source)\n",
    "\n",
    "p.y_range.start = 0\n",
    "p.x_range.range_padding = 0.1\n",
    "p.xaxis.major_label_orientation = 1\n",
    "p.xgrid.grid_line_color = None\n",
    "\n",
    "show(p)"
   ],
   "metadata": {
    "collapsed": false,
    "ExecuteTime": {
     "end_time": "2024-07-22T12:44:45.465345Z",
     "start_time": "2024-07-22T12:44:45.433781Z"
    }
   },
   "id": "30778bf62845e74d",
   "execution_count": 9
  },
  {
   "cell_type": "code",
   "execution_count": 9,
   "id": "5443601f-74fc-4fc1-9f40-08b8e166f210",
   "metadata": {
    "ExecuteTime": {
     "end_time": "2024-07-22T12:44:45.468258Z",
     "start_time": "2024-07-22T12:44:45.466399Z"
    }
   },
   "outputs": [],
   "source": []
  },
  {
   "cell_type": "code",
   "execution_count": 9,
   "id": "808ed842383b0b5a",
   "metadata": {
    "collapsed": false,
    "ExecuteTime": {
     "end_time": "2024-07-22T12:44:45.471499Z",
     "start_time": "2024-07-22T12:44:45.470027Z"
    }
   },
   "outputs": [],
   "source": []
  }
 ],
 "metadata": {
  "kernelspec": {
   "display_name": "Python 3 (ipykernel)",
   "language": "python",
   "name": "python3"
  },
  "language_info": {
   "codemirror_mode": {
    "name": "ipython",
    "version": 3
   },
   "file_extension": ".py",
   "mimetype": "text/x-python",
   "name": "python",
   "nbconvert_exporter": "python",
   "pygments_lexer": "ipython3",
   "version": "3.8.16"
  }
 },
 "nbformat": 4,
 "nbformat_minor": 5
}
